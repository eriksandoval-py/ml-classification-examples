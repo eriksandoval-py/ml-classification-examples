{
 "cells": [
  {
   "cell_type": "markdown",
   "id": "52a9f19f-aa58-4830-9c9d-f2f77c8ae55b",
   "metadata": {},
   "source": [
    "# Fashion Classification\n",
    "The following notebook is going to cover the Fashion MNIST dataset and how you can classify various clothing articles using TensorFlow. It is a companion to the MNIST digit classification notebook that is also in this repository. This notebook is based on various other resources that can be found online, but with added notes and commentary."
   ]
  },
  {
   "cell_type": "markdown",
   "id": "36b982b8-b33a-4608-ba1d-533c7ea25050",
   "metadata": {},
   "source": [
    "## Imports"
   ]
  },
  {
   "cell_type": "code",
   "execution_count": 1,
   "id": "11490298-d4fd-479b-958f-65e7ab41881b",
   "metadata": {},
   "outputs": [],
   "source": [
    "import tensorflow as tf\n",
    "import numpy as np"
   ]
  },
  {
   "cell_type": "markdown",
   "id": "686bfd44-6251-4e3d-8830-0b74f6c89f5b",
   "metadata": {},
   "source": [
    "Let's check the version:"
   ]
  },
  {
   "cell_type": "code",
   "execution_count": 2,
   "id": "420eb77c-3615-48ba-9b6c-479ec8455afd",
   "metadata": {},
   "outputs": [
    {
     "name": "stdout",
     "output_type": "stream",
     "text": [
      "2.9.0\n"
     ]
    }
   ],
   "source": [
    "print(tf.__version__)"
   ]
  },
  {
   "cell_type": "markdown",
   "id": "de697094-2590-4b43-bc01-5417c1e1a3ec",
   "metadata": {},
   "source": [
    "Great! Now that the imports are handled we can begin to load in our data."
   ]
  },
  {
   "cell_type": "markdown",
   "id": "b012bdc2-59da-4b8b-8403-20277e9dcd54",
   "metadata": {},
   "source": [
    "## Loading Data"
   ]
  },
  {
   "cell_type": "markdown",
   "id": "83e4ad3a-c005-4aad-b743-04fb6e7335d0",
   "metadata": {},
   "source": [
    "TensorFlow and Scikit-Learn are very handy when it comes to dataset and make it super easy to load datasets in:"
   ]
  },
  {
   "cell_type": "code",
   "execution_count": 3,
   "id": "bff545a8-b96a-400d-a17a-e4326a737d0a",
   "metadata": {},
   "outputs": [],
   "source": [
    "fashion_dataset = tf.keras.datasets.fashion_mnist"
   ]
  },
  {
   "cell_type": "markdown",
   "id": "e670aa81-c529-4725-b27e-dab4ce7a63d8",
   "metadata": {},
   "source": [
    "Remeber, you need to split your data into the appropriate training and test subsets. You can accomplish this by using Python's built in unpacking, and unpacking them into two tuples:"
   ]
  },
  {
   "cell_type": "code",
   "execution_count": 5,
   "id": "ceee76f6-a880-4551-afa6-b24925637aa1",
   "metadata": {},
   "outputs": [
    {
     "name": "stdout",
     "output_type": "stream",
     "text": [
      "Downloading data from https://storage.googleapis.com/tensorflow/tf-keras-datasets/train-labels-idx1-ubyte.gz\n",
      "29515/29515 [==============================] - 0s 2us/step\n",
      "Downloading data from https://storage.googleapis.com/tensorflow/tf-keras-datasets/train-images-idx3-ubyte.gz\n",
      "26421880/26421880 [==============================] - 1s 0us/step\n",
      "Downloading data from https://storage.googleapis.com/tensorflow/tf-keras-datasets/t10k-labels-idx1-ubyte.gz\n",
      "5148/5148 [==============================] - 0s 0us/step\n",
      "Downloading data from https://storage.googleapis.com/tensorflow/tf-keras-datasets/t10k-images-idx3-ubyte.gz\n",
      "4422102/4422102 [==============================] - 0s 0us/step\n"
     ]
    }
   ],
   "source": [
    "(X_training, y_training), (X_test, y_test) = fashion_dataset.load_data()"
   ]
  },
  {
   "cell_type": "code",
   "execution_count": null,
   "id": "969ff13a-a472-482b-83a5-ae4f69d1ba9e",
   "metadata": {},
   "outputs": [],
   "source": []
  }
 ],
 "metadata": {
  "kernelspec": {
   "display_name": "Python 3 (ipykernel)",
   "language": "python",
   "name": "python3"
  },
  "language_info": {
   "codemirror_mode": {
    "name": "ipython",
    "version": 3
   },
   "file_extension": ".py",
   "mimetype": "text/x-python",
   "name": "python",
   "nbconvert_exporter": "python",
   "pygments_lexer": "ipython3",
   "version": "3.10.10"
  }
 },
 "nbformat": 4,
 "nbformat_minor": 5
}
