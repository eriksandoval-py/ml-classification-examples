{
 "cells": [
  {
   "cell_type": "markdown",
   "id": "74550463-5b6b-4df3-ba06-c041ebb59a2d",
   "metadata": {},
   "source": [
    "# Classification\n",
    "Some of the most common supervised learnings tasks are regression and classification. In this notebook we will focus on classification. We will be using the MNIST dataset. It is a set of sabout 70,000 images of handwritten digits. Each image contains a corresponding label representing the actual digit.\n",
    "\n",
    "Thankfully, Scikit-Learn contains a lot of functions that can be used to download datasets, with the MNIST dataset being one of them. You can download it like so:"
   ]
  },
  {
   "cell_type": "code",
   "execution_count": 1,
   "id": "82c1b875-2ea9-4c5f-835b-5753ea36bfef",
   "metadata": {},
   "outputs": [
    {
     "name": "stderr",
     "output_type": "stream",
     "text": [
      "C:\\Users\\eriks\\ml\\env\\lib\\site-packages\\sklearn\\datasets\\_openml.py:932: FutureWarning: The default value of `parser` will change from `'liac-arff'` to `'auto'` in 1.4. You can set `parser='auto'` to silence this warning. Therefore, an `ImportError` will be raised from 1.4 if the dataset is dense and pandas is not installed. Note that the pandas parser may return different data types. See the Notes Section in fetch_openml's API doc for details.\n",
      "  warn(\n"
     ]
    },
    {
     "data": {
      "text/plain": [
       "dict_keys(['data', 'target', 'frame', 'categories', 'feature_names', 'target_names', 'DESCR', 'details', 'url'])"
      ]
     },
     "execution_count": 1,
     "metadata": {},
     "output_type": "execute_result"
    }
   ],
   "source": [
    "from sklearn.datasets import fetch_openml\n",
    "mnist = fetch_openml('mnist_784', version=1)\n",
    "mnist.keys()"
   ]
  },
  {
   "cell_type": "markdown",
   "id": "ec93e810-0f5f-49f2-adbd-3995d2e8df39",
   "metadata": {},
   "source": [
    "The structure of datasets loaded in by Scikit-Learn generally contain this:\n",
    "\n",
    "- A `DESCR` key descrbing the dataset\n",
    "- A `data` key with an array (one row per instance, one column per feature)\n",
    "- A `target` key with an array of labels"
   ]
  },
  {
   "cell_type": "code",
   "execution_count": null,
   "id": "044cc96f-0b61-4fc3-a88e-ea2eecfec77a",
   "metadata": {},
   "outputs": [],
   "source": []
  }
 ],
 "metadata": {
  "kernelspec": {
   "display_name": "Python 3 (ipykernel)",
   "language": "python",
   "name": "python3"
  },
  "language_info": {
   "codemirror_mode": {
    "name": "ipython",
    "version": 3
   },
   "file_extension": ".py",
   "mimetype": "text/x-python",
   "name": "python",
   "nbconvert_exporter": "python",
   "pygments_lexer": "ipython3",
   "version": "3.10.9"
  }
 },
 "nbformat": 4,
 "nbformat_minor": 5
}
